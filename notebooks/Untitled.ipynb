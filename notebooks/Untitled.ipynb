{
 "cells": [
  {
   "cell_type": "code",
   "execution_count": 1,
   "id": "c814dc34-44b1-45ec-97d6-f8a86c0122d9",
   "metadata": {},
   "outputs": [],
   "source": [
    "import unipy.collection\n",
    "\n",
    "xml_file = \"../tests/data/uniprotkb_proteome_UP000001570_2024_06_27.xml.gz\""
   ]
  },
  {
   "cell_type": "code",
   "execution_count": 3,
   "id": "b11e0e24-405c-4986-960d-9dd231834f8f",
   "metadata": {},
   "outputs": [
    {
     "name": "stdout",
     "output_type": "stream",
     "text": [
      "Acknowledged 0 entries (/Users/glaunay)\n",
      "Acknowledged 4260 entries ../data/test/uniprotkb_proteome_UP000001570_2024_06_27.xml.gz\n"
     ]
    }
   ],
   "source": [
    "u_coll = unipy.collection.EntrySet(collectionXML=xml_file)"
   ]
  },
  {
   "cell_type": "code",
   "execution_count": 6,
   "id": "fa0b9c22-3c70-4d75-b4d4-60e1527d62ea",
   "metadata": {},
   "outputs": [
    {
     "data": {
      "text/plain": [
       "'Swiss-Prot'"
      ]
     },
     "execution_count": 6,
     "metadata": {},
     "output_type": "execute_result"
    }
   ],
   "source": [
    "u = u_coll.get(\"C0SP85\")\n",
    "u.dataset"
   ]
  }
 ],
 "metadata": {
  "kernelspec": {
   "display_name": "unipy_dvl",
   "language": "python",
   "name": "unipy_dvl"
  },
  "language_info": {
   "codemirror_mode": {
    "name": "ipython",
    "version": 3
   },
   "file_extension": ".py",
   "mimetype": "text/x-python",
   "name": "python",
   "nbconvert_exporter": "python",
   "pygments_lexer": "ipython3",
   "version": "3.12.4"
  }
 },
 "nbformat": 4,
 "nbformat_minor": 5
}
